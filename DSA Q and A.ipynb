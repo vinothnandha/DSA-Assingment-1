{
 "cells": [
  {
   "cell_type": "raw",
   "id": "84d755bc",
   "metadata": {},
   "source": [
    "Q1. Write a program to find all pairs of an integer array whose sum is equal to a given number?"
   ]
  },
  {
   "cell_type": "code",
   "execution_count": 13,
   "id": "925080ae",
   "metadata": {},
   "outputs": [
    {
     "name": "stdout",
     "output_type": "stream",
     "text": [
      "Enter number separated by comma:1,2,3,4,5\n",
      "Enter Sum to find a Pair:6\n",
      "Pair Found 1,5\n",
      "Pair Found 2,4\n",
      "Pair Found 3,3\n",
      "Pair Found 4,2\n",
      "Pair Found 5,1\n"
     ]
    }
   ],
   "source": [
    "def pair(arr,total):\n",
    "    flag = True\n",
    "    for i in arr:\n",
    "        for j in arr:\n",
    "            if i + j == total:\n",
    "                print(\"Pair Found {},{}\".format(i,j))\n",
    "                flag = False\n",
    "    if flag == True:\n",
    "        print(\"Pair not Found for this sum->{} \".format(total))\n",
    "\n",
    "arr = list(map(int,input(\"Enter number separated by comma:\").split(\",\")))\n",
    "total = int(input(\"Enter Sum to find a Pair:\"))\n",
    "pair(arr,total)"
   ]
  },
  {
   "cell_type": "raw",
   "id": "e90f6e32",
   "metadata": {},
   "source": [
    "Q2. Write a program to reverse an array in place? In place means you cannot create a new array. You have to update the original array."
   ]
  },
  {
   "cell_type": "code",
   "execution_count": 20,
   "id": "faddd95c",
   "metadata": {},
   "outputs": [
    {
     "name": "stdout",
     "output_type": "stream",
     "text": [
      "Enter a Number Separated by Comma:1,2,3,4,5\n",
      "Array is -> [1, 2, 3, 4, 5]\n",
      "Reversed Arrray -> [5, 4, 3, 2, 1]\n"
     ]
    }
   ],
   "source": [
    "def rev(A,head,tail):\n",
    "    while head < tail:\n",
    "        A[head],A[tail] = A[tail],A[head]\n",
    "        head +=1\n",
    "        tail -=1\n",
    "\n",
    "        \n",
    "A = list(map(int,input(\"Enter a Number Separated by Comma:\").split(\",\")))\n",
    "print(\"Array is ->\", A)\n",
    "rev(A,0,len(A)-1)\n",
    "print(\"Reversed Arrray ->\",A)"
   ]
  },
  {
   "cell_type": "raw",
   "id": "3b9bb8bc",
   "metadata": {},
   "source": [
    "Q3. Write a program to check if two strings are a rotation of each other?"
   ]
  },
  {
   "cell_type": "code",
   "execution_count": 31,
   "id": "f572b10d",
   "metadata": {},
   "outputs": [
    {
     "name": "stdout",
     "output_type": "stream",
     "text": [
      "Enter a String 1:ABACD\n",
      "Enter a String 2:CDABA\n",
      "1\n",
      "1\n",
      "Two String are Rotation of each other.\n"
     ]
    }
   ],
   "source": [
    "def rota(str1,str2):\n",
    "    d = str1 + str1\n",
    "    if d.count(str2) > 0:\n",
    "        print(\"Two String are Rotation of each other.\")\n",
    "str1 = input(\"Enter a String 1:\")\n",
    "str2 = input(\"Enter a String 2:\")\n",
    "if len(str1)!=len(str2):\n",
    "    print(\"Two strings are not rotation to each other.\",str1,str2)\n",
    "else:\n",
    "    rota(str1,str2)"
   ]
  },
  {
   "cell_type": "raw",
   "id": "f8a5cf0d",
   "metadata": {},
   "source": [
    "Q4. Write a program to print the first non-repeated character from a string?"
   ]
  },
  {
   "cell_type": "code",
   "execution_count": 53,
   "id": "9391c0b9",
   "metadata": {},
   "outputs": [
    {
     "name": "stdout",
     "output_type": "stream",
     "text": [
      "Enter a String:vinoth\n",
      "The first non-repeated character: v\n"
     ]
    }
   ],
   "source": [
    "no_char = 256\n",
    "\n",
    "def add(string):\n",
    "    add = [0] * no_char\n",
    "    for i in string:\n",
    "        add[ord(i)] += 1\n",
    "    return add\n",
    "\n",
    "def non_repeating(string):\n",
    "    count = add(string)\n",
    "    index = -1\n",
    "    k = 0\n",
    "    for i in string:\n",
    "        if count[ord(i)] == 1:\n",
    "            index = k\n",
    "            break\n",
    "        k += 1\n",
    "    return index\n",
    "\n",
    "string = input(\"Enter a String:\")\n",
    "index = non_repeating(string)\n",
    "if index == 1:\n",
    "    print(\"String does not contains non-repeated character\")\n",
    "else:\n",
    "    print(\"The first non-repeated character:\",string[index])\n"
   ]
  },
  {
   "cell_type": "raw",
   "id": "ab610e9c",
   "metadata": {},
   "source": [
    "Q5. Read about the Tower of Hanoi algorithm. Write a program to implement it."
   ]
  },
  {
   "cell_type": "code",
   "execution_count": 2,
   "id": "83041490",
   "metadata": {},
   "outputs": [
    {
     "name": "stdout",
     "output_type": "stream",
     "text": [
      "Move disk 1 from source A to destination C\n",
      "Move disk 2 from source A to destination B\n",
      "Move disk 1 from source C to destination B\n",
      "Move disk 3 from source A to destination C\n",
      "Move disk 1 from source B to destination A\n",
      "Move disk 2 from source B to destination C\n",
      "Move disk 1 from source A to destination C\n",
      "Move disk 4 from source A to destination B\n",
      "Move disk 1 from source C to destination B\n",
      "Move disk 2 from source C to destination A\n",
      "Move disk 1 from source B to destination A\n",
      "Move disk 3 from source C to destination B\n",
      "Move disk 1 from source A to destination C\n",
      "Move disk 2 from source A to destination B\n",
      "Move disk 1 from source C to destination B\n"
     ]
    }
   ],
   "source": [
    "def TowerOfHanoi(n , source, destination, auxiliary):\n",
    "    if n==1:\n",
    "        print (\"Move disk 1 from source\",source,\"to destination\",destination)\n",
    "        return\n",
    "    TowerOfHanoi(n-1, source, auxiliary, destination)\n",
    "    print (\"Move disk\",n,\"from source\",source,\"to destination\",destination)\n",
    "    TowerOfHanoi(n-1, auxiliary, destination, source)\n",
    "n = 4\n",
    "TowerOfHanoi(n,'A','B','C') "
   ]
  },
  {
   "cell_type": "raw",
   "id": "77d10ced",
   "metadata": {},
   "source": [
    "Q6. Read about infix, prefix, and postfix expressions. Write a program to convert postfix to prefix expression."
   ]
  },
  {
   "cell_type": "code",
   "execution_count": 3,
   "id": "e44b4ed1",
   "metadata": {},
   "outputs": [
    {
     "name": "stdout",
     "output_type": "stream",
     "text": [
      "+AB-CD\n"
     ]
    }
   ],
   "source": [
    "def isOperator(x):\n",
    " \n",
    "    if x == \"+\":\n",
    "        return True\n",
    " \n",
    "    if x == \"-\":\n",
    "        return True\n",
    " \n",
    "    if x == \"/\":\n",
    "        return True\n",
    " \n",
    "    if x == \"*\":\n",
    "        return True\n",
    " \n",
    "    return False\n",
    " \n",
    "def postToPre(post_exp):\n",
    " \n",
    "    s = []\n",
    " \n",
    "    length = len(post_exp)\n",
    " \n",
    "    for i in range(length):\n",
    "        if (isOperator(post_exp[i])):\n",
    "            op1 = s[-1]\n",
    "            s.pop()\n",
    "            op2 = s[-1]\n",
    "            s.pop()\n",
    "            temp = post_exp[i] + op2 + op1\n",
    "            s.append(temp)\n",
    "        else:\n",
    "            s.append(post_exp[i])\n",
    "    \n",
    "    ans = \"\"\n",
    "    for i in s:\n",
    "        ans += i\n",
    "    return ans\n",
    "\n",
    "post_exp = \"AB+CD-\"\n",
    "print(postToPre(post_exp))"
   ]
  },
  {
   "cell_type": "raw",
   "id": "9144c626",
   "metadata": {},
   "source": [
    "Q7. Write a program to convert prefix expression to infix expression."
   ]
  },
  {
   "cell_type": "code",
   "execution_count": 4,
   "id": "ac71a3a5",
   "metadata": {},
   "outputs": [
    {
     "name": "stdout",
     "output_type": "stream",
     "text": [
      "((A-(B/C))*((A/K)-L))\n"
     ]
    }
   ],
   "source": [
    "def pi(prefix):\n",
    "    stack = []\n",
    "    i = len(prefix) - 1\n",
    "    while i >= 0:\n",
    "        if not io(prefix[i]):\n",
    "            stack.append(prefix[i])\n",
    "            i -= 1\n",
    "        else:\n",
    "            str = \"(\" + stack.pop() + prefix[i] + stack.pop() + \")\"\n",
    "            stack.append(str)\n",
    "            i -= 1\n",
    "    return stack.pop()\n",
    " \n",
    "def io(c):\n",
    "    if c == \"*\" or c == \"+\" or c == \"-\" or c == \"/\" or c == \"^\" or c == \"(\" or c == \")\":\n",
    "        return True\n",
    "    else:\n",
    "        return False\n",
    "str = \"*-A/BC-/AKL\"\n",
    "print(pi(str))"
   ]
  },
  {
   "cell_type": "raw",
   "id": "94eed6f8",
   "metadata": {},
   "source": [
    "Q9. Write a program to reverse a stack."
   ]
  },
  {
   "cell_type": "code",
   "execution_count": 5,
   "id": "5a70aa5c",
   "metadata": {},
   "outputs": [
    {
     "name": "stdout",
     "output_type": "stream",
     "text": [
      "Original Stack\n",
      "5\n",
      "4\n",
      "3\n",
      "2\n",
      "1\n",
      "\n",
      "Stack after Reversing\n",
      "1\n",
      "2\n",
      "3\n",
      "4\n",
      "5\n"
     ]
    }
   ],
   "source": [
    "class stack:\n",
    "    \n",
    "    def __init__(self):\n",
    "        self.stacks = []\n",
    "    \n",
    "    def push(self, value):\n",
    "        self.stacks.append(value)\n",
    "        \n",
    "    def pop(self):\n",
    "        return self.stacks.pop()\n",
    "     \n",
    "    def empty(self):\n",
    "        return self.stacks == []\n",
    "     \n",
    "    def show(self):\n",
    "        for value in reversed(self.stacks):\n",
    "            print(value)\n",
    "            \n",
    "def Insert(s, value):\n",
    "    if s.empty():\n",
    "        s.push(value)\n",
    "    else:\n",
    "        popped = s.pop()\n",
    "        Insert(s, value)\n",
    "        s.push(popped)\n",
    "\n",
    "def Reverse(s):\n",
    "    if s.empty():\n",
    "        pass\n",
    "    else:\n",
    "        popped = s.pop()\n",
    "        Reverse(s)\n",
    "        Insert(s, popped)\n",
    "\n",
    "obj = stack()\n",
    "obj.push(1)\n",
    "obj.push(2)\n",
    "obj.push(3)\n",
    "obj.push(4)\n",
    "obj.push(5)\n",
    " \n",
    "print(\"Original Stack\")\n",
    "obj.show()\n",
    "print(\"\\nStack after Reversing\")\n",
    "Reverse(obj)\n",
    "obj.show()\n"
   ]
  },
  {
   "cell_type": "raw",
   "id": "4187b543",
   "metadata": {},
   "source": [
    "Q10. Write a program to find the smallest number using a stack."
   ]
  },
  {
   "cell_type": "code",
   "execution_count": null,
   "id": "4d792979",
   "metadata": {},
   "outputs": [],
   "source": []
  }
 ],
 "metadata": {
  "kernelspec": {
   "display_name": "Python 3 (ipykernel)",
   "language": "python",
   "name": "python3"
  },
  "language_info": {
   "codemirror_mode": {
    "name": "ipython",
    "version": 3
   },
   "file_extension": ".py",
   "mimetype": "text/x-python",
   "name": "python",
   "nbconvert_exporter": "python",
   "pygments_lexer": "ipython3",
   "version": "3.9.6"
  }
 },
 "nbformat": 4,
 "nbformat_minor": 5
}
